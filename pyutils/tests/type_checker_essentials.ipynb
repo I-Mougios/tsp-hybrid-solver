{
 "cells": [
  {
   "cell_type": "code",
   "execution_count": 2,
   "id": "44817cb8bba6e171",
   "metadata": {
    "ExecuteTime": {
     "end_time": "2025-02-08T14:36:15.964868Z",
     "start_time": "2025-02-08T14:36:15.954662Z"
    }
   },
   "outputs": [],
   "source": [
    "import sys\n",
    "from pathlib import Path\n",
    "base_dir = Path.cwd().parent.resolve()\n",
    "sys.path.append(str(base_dir))\n",
    "from decorators import Dispatcher\n",
    "from validator import TypeChecker, ValidationError\n",
    "from datetime import date"
   ]
  },
  {
   "cell_type": "code",
   "execution_count": 3,
   "id": "initial_id",
   "metadata": {
    "ExecuteTime": {
     "end_time": "2025-02-08T14:36:16.311380Z",
     "start_time": "2025-02-08T14:36:16.306394Z"
    },
    "collapsed": true
   },
   "outputs": [],
   "source": [
    "class Person:\n",
    "    first_name = TypeChecker(str, min_length=1, max_length=8, required=True)\n",
    "    last_name = TypeChecker(str, min_length=1, max_length=20, required=True)\n",
    "    dob = TypeChecker(date, min_length=1, max_length=20, required=True)\n",
    "    eye_color = TypeChecker(\"enum\", enum_list=['blue', 'green', 'hazel'], required=False)\n",
    "\n",
    "    def __init__(self, first_name, last_name, dob, eye_color=None):\n",
    "        self.first_name = first_name\n",
    "        self.last_name = last_name\n",
    "        self.dob = dob\n",
    "        self.eye_color = eye_color"
   ]
  },
  {
   "cell_type": "code",
   "execution_count": 4,
   "id": "d6aba5e502aedb00",
   "metadata": {
    "ExecuteTime": {
     "end_time": "2025-02-08T14:36:16.978219Z",
     "start_time": "2025-02-08T14:36:16.972998Z"
    }
   },
   "outputs": [],
   "source": [
    "p1 = Person('Ioannis', 'Mougios','19950727', 'brown') # incorrect eye-color\n",
    "p1 = Person('Ioannis', 'Mougios',dob=None, eye_color= 'hazel') # missing date\n",
    "p2 = Person('Joe', None, '2000-05-30') # Missing last_name\n",
    "p3 = Person('Joe', None, '2000/05/30', 'blue') # No logging for missing last name , wrong date format,\n",
    "p4 = Person('Margarita', 'Rose', date(2000,1,1)) # exceeds max length in first name\n",
    "p5 = Person('Eric','Boo', '20000101','green') # Correct"
   ]
  },
  {
   "cell_type": "code",
   "execution_count": 5,
   "id": "2c01174d7327e675",
   "metadata": {
    "ExecuteTime": {
     "end_time": "2025-02-08T14:36:17.805085Z",
     "start_time": "2025-02-08T14:36:17.798595Z"
    }
   },
   "outputs": [
    {
     "data": {
      "text/plain": [
       "mappingproxy({'eye_color': [validator.ValidationError(\"Acceptable values for attribute eye_color are ['blue', 'green', 'hazel']. Invalid value: brown\")],\n",
       "              'dob': [validator.ValidationError('Field dob is mandatory. Ensure there are no missing values'),\n",
       "               validator.ValidationError('dob must match one of the formats: %Y%m%d, %Y-%m-%d. Invalid value: 2000/05/30')],\n",
       "              'last_name': [validator.ValidationError('Field last_name is mandatory. Ensure there are no missing values')],\n",
       "              'first_name': [validator.ValidationError('Field first_name cannot have more than 8 characters. Invalid value: Margarita')]})"
      ]
     },
     "execution_count": 5,
     "metadata": {},
     "output_type": "execute_result"
    }
   ],
   "source": [
    "ValidationError.get_errors()"
   ]
  },
  {
   "cell_type": "code",
   "execution_count": 6,
   "id": "6d8b30ca7d67cd7c",
   "metadata": {
    "ExecuteTime": {
     "end_time": "2025-02-08T14:36:29.187474Z",
     "start_time": "2025-02-08T14:36:29.183903Z"
    }
   },
   "outputs": [
    {
     "name": "stdout",
     "output_type": "stream",
     "text": [
      "{\n",
      "    \"eye_color\": [\n",
      "        \"Acceptable values for attribute eye_color are ['blue', 'green', 'hazel']. Invalid value: brown\"\n",
      "    ],\n",
      "    \"dob\": [\n",
      "        \"Field dob is mandatory. Ensure there are no missing values\",\n",
      "        \"dob must match one of the formats: %Y%m%d, %Y-%m-%d. Invalid value: 2000/05/30\"\n",
      "    ],\n",
      "    \"last_name\": [\n",
      "        \"Field last_name is mandatory. Ensure there are no missing values\"\n",
      "    ],\n",
      "    \"first_name\": [\n",
      "        \"Field first_name cannot have more than 8 characters. Invalid value: Margarita\"\n",
      "    ]\n",
      "}\n"
     ]
    }
   ],
   "source": [
    "from pprint import pprint\n",
    "print(ValidationError.to_json())"
   ]
  },
  {
   "cell_type": "code",
   "execution_count": 18,
   "id": "7285f516f8531867",
   "metadata": {
    "ExecuteTime": {
     "end_time": "2025-02-08T14:36:30.070555Z",
     "start_time": "2025-02-08T14:36:30.067197Z"
    }
   },
   "outputs": [],
   "source": [
    "ValidationError.clear_errors()"
   ]
  },
  {
   "cell_type": "code",
   "execution_count": 19,
   "id": "f5936c36f777250a",
   "metadata": {
    "ExecuteTime": {
     "end_time": "2025-02-08T14:36:30.767920Z",
     "start_time": "2025-02-08T14:36:30.763615Z"
    }
   },
   "outputs": [
    {
     "data": {
      "text/plain": [
       "mappingproxy({})"
      ]
     },
     "execution_count": 19,
     "metadata": {},
     "output_type": "execute_result"
    }
   ],
   "source": [
    "ValidationError.get_errors()"
   ]
  },
  {
   "cell_type": "markdown",
   "id": "ea288eb687781457",
   "metadata": {},
   "source": [
    "### Validation function can be overwritten ..."
   ]
  },
  {
   "cell_type": "code",
   "execution_count": 20,
   "id": "45696761012db4c1",
   "metadata": {
    "ExecuteTime": {
     "end_time": "2025-02-08T14:36:31.935113Z",
     "start_time": "2025-02-08T14:36:31.926790Z"
    }
   },
   "outputs": [
    {
     "data": {
      "text/plain": [
       "<staticmethod(<decorators.dispatcher.Dispatcher object at 0x128162e10>)>"
      ]
     },
     "execution_count": 20,
     "metadata": {},
     "output_type": "execute_result"
    }
   ],
   "source": [
    "class UnregisteredCase(KeyError):\n",
    "    \"\"\"Default error when the validate function cannot perform the dispatching based on an argument\"\"\"\n",
    "\n",
    "import re\n",
    "\n",
    "\n",
    "@Dispatcher\n",
    "def validate(*args, **kwargs):\n",
    "    return UnregisteredCase('No register function for the case of {}'.format(args[0]))\n",
    "\n",
    "@validate.register('email')\n",
    "def is_valid_email(type_, email: str, **kwargs) -> tuple:\n",
    "\n",
    "    email_pattern = r'^[a-zA-Z0-9._%+-]+@[a-zA-Z0-9.-]+\\.[a-zA-Z]{2,}$'\n",
    "\n",
    "    if not bool(re.match(email_pattern, email)):\n",
    "        return False, ValidationError(error_message=f'Invalid email address {email}',\n",
    "                                      field_name=kwargs['attr_name'])\n",
    "\n",
    "    return True, ''\n",
    "\n",
    "@validate.register(str)\n",
    "def validate_string(type_, value, attr_name, min_length, max_length, **kwargs):\n",
    "    if value is None:\n",
    "        return True, \"\"\n",
    "    if not isinstance(value, str):\n",
    "        return False, ValidationError(f'Field {attr_name} is type of str. Invalid value: {value}',\n",
    "                                      field_name=attr_name)\n",
    "    if min_length and len(value) <= min_length:\n",
    "        return False, ValidationError(f\"Field {attr_name} must have at least {min_length} characters. Invalid value: {value}\",\n",
    "                                      field_name=attr_name)\n",
    "    if max_length and len(value) >= max_length:\n",
    "        return False, ValidationError(f\"Field {attr_name} cannot have more than {max_length} characters. Invalid value: {value}\",\n",
    "                                      field_name=attr_name)\n",
    "    return True, \"\"\n",
    "\n",
    "TypeChecker.set_validator_function(validate)"
   ]
  },
  {
   "cell_type": "code",
   "execution_count": 21,
   "id": "b5e89c658ab30dfb",
   "metadata": {
    "ExecuteTime": {
     "end_time": "2025-02-08T14:36:32.578172Z",
     "start_time": "2025-02-08T14:36:32.574264Z"
    }
   },
   "outputs": [],
   "source": [
    "class Person:\n",
    "    name = TypeChecker(str, min_length=1, max_length=20, required=True)\n",
    "    email = TypeChecker('email', required=True)\n",
    "\n",
    "    def __init__(self, name, email):\n",
    "        self.name = name\n",
    "        self.email = email"
   ]
  },
  {
   "cell_type": "code",
   "execution_count": 22,
   "id": "92073df60375d7a",
   "metadata": {
    "ExecuteTime": {
     "end_time": "2025-02-08T14:36:33.270065Z",
     "start_time": "2025-02-08T14:36:33.265731Z"
    }
   },
   "outputs": [],
   "source": [
    "p1 = Person('Ioannis',\"test@example.com\")\n",
    "p2 = Person('Ioannis'*6,\"invalid-email@\")"
   ]
  },
  {
   "cell_type": "code",
   "execution_count": 23,
   "id": "d2ce569b217bd704",
   "metadata": {
    "ExecuteTime": {
     "end_time": "2025-02-08T14:36:34.306785Z",
     "start_time": "2025-02-08T14:36:34.302559Z"
    }
   },
   "outputs": [
    {
     "data": {
      "text/plain": [
       "mappingproxy({'name': [validator.ValidationError('Field name cannot have more than 20 characters. Invalid value: IoannisIoannisIoannisIoannisIoannisIoannis')],\n",
       "              'email': [validator.ValidationError('Invalid email address invalid-email@')]})"
      ]
     },
     "execution_count": 23,
     "metadata": {},
     "output_type": "execute_result"
    }
   ],
   "source": [
    "ValidationError.get_errors()\n"
   ]
  },
  {
   "cell_type": "code",
   "execution_count": 13,
   "id": "81114b779d447a35",
   "metadata": {
    "ExecuteTime": {
     "end_time": "2025-02-07T23:58:53.129541Z",
     "start_time": "2025-02-07T23:58:53.127535Z"
    }
   },
   "outputs": [],
   "source": [
    "# emails = [\"test@example.com\", \"invalid-email@\", \"user@domain\", \"hello@sub.domain.com\"]\n",
    "# for email in emails:\n",
    "#     print(f\"{email}: {validate('email', email)}\")"
   ]
  }
 ],
 "metadata": {
  "kernelspec": {
   "display_name": "tsp",
   "language": "python",
   "name": "python3"
  },
  "language_info": {
   "codemirror_mode": {
    "name": "ipython",
    "version": 3
   },
   "file_extension": ".py",
   "mimetype": "text/x-python",
   "name": "python",
   "nbconvert_exporter": "python",
   "pygments_lexer": "ipython3",
   "version": "3.12.8"
  }
 },
 "nbformat": 4,
 "nbformat_minor": 5
}
