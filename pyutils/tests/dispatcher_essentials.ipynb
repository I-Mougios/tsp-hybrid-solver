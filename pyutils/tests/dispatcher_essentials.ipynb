{
 "cells": [
  {
   "cell_type": "code",
   "execution_count": 4,
   "id": "initial_id",
   "metadata": {
    "ExecuteTime": {
     "end_time": "2025-02-13T23:33:46.653558Z",
     "start_time": "2025-02-13T23:33:46.647260Z"
    },
    "collapsed": true
   },
   "outputs": [],
   "source": [
    "import sys\n",
    "from pathlib import Path\n",
    "base_dir = Path.cwd().parent.resolve()\n",
    "sys.path.append(str(base_dir))\n",
    "from decorators import Dispatcher"
   ]
  },
  {
   "cell_type": "markdown",
   "id": "eb23359030f437dc",
   "metadata": {},
   "source": [
    "A simple use case of dispatcher is to choose the function based on the type of a selected argument"
   ]
  },
  {
   "cell_type": "code",
   "execution_count": 5,
   "id": "6274834e1d22e1bf",
   "metadata": {
    "ExecuteTime": {
     "end_time": "2025-02-13T23:33:47.632072Z",
     "start_time": "2025-02-13T23:33:47.625914Z"
    }
   },
   "outputs": [
    {
     "name": "stdout",
     "output_type": "stream",
     "text": [
      "String value: hello\n",
      "Integer value: 123\n",
      "List value: [1, 2, 3]\n",
      "'Not a registered key'\n"
     ]
    }
   ],
   "source": [
    "class UnregisteredKey(KeyError):\n",
    "    \"\"\"Error to be raised when an unregistered key is requested\"\"\"\n",
    "\n",
    "def handle_request(value1, value2, value3):\n",
    "    raise UnregisteredKey('Not a registered key')\n",
    "\n",
    "# Initialize the dispatcher to dispatch based on the second argument's type (key_idx=1)\n",
    "handle_request = Dispatcher(handle_request, key_idx=1, key_generator=type)\n",
    "\n",
    "# Register functions for specific argument types\n",
    "@handle_request.register(str)\n",
    "def _(value1, value2, value3):\n",
    "    return f\"String value: {value2}\"\n",
    "\n",
    "@handle_request.register(int)\n",
    "def _(value1, value2, value3):\n",
    "    return f\"Integer value: {value2}\"\n",
    "\n",
    "@handle_request.register(list)\n",
    "def _(value1, value2, value3):\n",
    "    return f\"List value: {value2}\"\n",
    "\n",
    "# Dispatch based on the second argument's type\n",
    "print(handle_request('arg1', 'hello', 'arg3'))  # String value: hello\n",
    "print(handle_request('arg1', 123, 'arg3'))  # Integer value: 123\n",
    "print(handle_request('arg1', [1, 2, 3], 'arg3'))  # List value: [1, 2, 3]\n",
    "\n",
    "# Raises UnregisteredKey for unsupported type\n",
    "try:\n",
    "    print(handle_request('arg1', 3.14, 'arg3'))\n",
    "except UnregisteredKey as ex:\n",
    "    print(ex)  # Output: Not a registered key"
   ]
  },
  {
   "cell_type": "code",
   "execution_count": 6,
   "id": "ad026ff4c1290672",
   "metadata": {
    "ExecuteTime": {
     "end_time": "2025-02-13T23:40:28.909782Z",
     "start_time": "2025-02-13T23:40:28.898665Z"
    }
   },
   "outputs": [
    {
     "name": "stdout",
     "output_type": "stream",
     "text": [
      "Reversed order: a, b\n",
      "Empty values: key1=None, key2=\n",
      "Missing required keyword arguments: {'key1'}. Arguments used for dispatching must be passed as keyword arguments.\n",
      "Missing required keyword arguments: {'key1', 'key2'}. Arguments used for dispatching must be passed as keyword arguments.\n",
      "'Not a registered key' registered_keys: dict_keys([('b', 'a'), ('', None)])\n",
      "At least one positional or keyword argument is required for dispatching.\n"
     ]
    }
   ],
   "source": [
    "def notify_user(*args, **kwargs):\n",
    "    raise UnregisteredKey('Not a registered key')\n",
    "\n",
    "# Key generator function that reverses the values of 'key1' and 'key2'\n",
    "def reverse_key_order(key1, key2):\n",
    "    return (key2, key1)\n",
    "\n",
    "# Initialize the dispatcher to dispatch based on the reversed order of keyword arguments\n",
    "notify_user = Dispatcher(default_function=notify_user,\n",
    "                         key_generator=reverse_key_order,\n",
    "                         key_names=['key1', 'key2'])\n",
    "\n",
    "# Register functions for specific keys\n",
    "@notify_user.register(('b', 'a'))\n",
    "def _(key1, key2):\n",
    "    return f\"Reversed order: {key1}, {key2}\"\n",
    "\n",
    "@notify_user.register(('', None))\n",
    "def _(key1, key2):\n",
    "    return f\"Empty values: key1={key1}, key2={key2}\"\n",
    "\n",
    "# Dispatch using keyword arguments (key1 and key2), reversing the order of the values\n",
    "print(notify_user(key1='a', key2='b'))  # Reversed order: b, a\n",
    "print(notify_user(key1=None, key2=''))  # Empty values: key1=None, key2=\n",
    "\n",
    "try:\n",
    "    notify_user('a', key2='b')\n",
    "except TypeError as ex:\n",
    "    print(ex)\n",
    "\n",
    "try:\n",
    "    notify_user('a', 'b')\n",
    "except TypeError as ex:\n",
    "    print(ex)\n",
    "\n",
    "\n",
    "try:\n",
    "    print(notify_user(key1='', key2=None))  # Empty values: key1=, key2=None but it will raise an error because the key_generator reverse the order of the keys\n",
    "except UnregisteredKey as ex:\n",
    "    print(ex, f'registered_keys: {notify_user.get_registry().keys()}')\n",
    "# Raises TypeError if a required keyword argument is missing\n",
    "try:\n",
    "    print(notify_user())\n",
    "except ValueError as e:\n",
    "    print(e)  # Output: Missing required keyword arguments: {'key1', 'key2'}\n"
   ]
  },
  {
   "cell_type": "code",
   "execution_count": 7,
   "id": "104e48bbc6ddfbdd",
   "metadata": {
    "ExecuteTime": {
     "end_time": "2025-02-13T23:40:35.005599Z",
     "start_time": "2025-02-13T23:40:35.000998Z"
    }
   },
   "outputs": [
    {
     "name": "stdout",
     "output_type": "stream",
     "text": [
      "Alice\n",
      "Bob\n"
     ]
    }
   ],
   "source": [
    "def raise_error(*args, **kwargs):\n",
    "    raise UnregisteredKey('Not a registered key')\n",
    "\n",
    "class Person:\n",
    "    def __init__(self, name):\n",
    "        self.name = name\n",
    "\n",
    "    talk = Dispatcher(raise_error,\n",
    "                      key_generator=None,\n",
    "                      key_idx=1)\n",
    "\n",
    "    @talk.register('Bob')\n",
    "    def _(*args):\n",
    "        return 'Bob'\n",
    "\n",
    "    @talk.register('Alice')\n",
    "    def _(*args):\n",
    "        return 'Alice'\n",
    "\n",
    "p = Person('No name')\n",
    "print(p.talk('Alice')) # the first argument is self so it uses the first it was passed\n",
    "print(p.talk('Bob'))"
   ]
  },
  {
   "cell_type": "markdown",
   "id": "dd1683e2316a47d8",
   "metadata": {},
   "source": [
    "The same example using custom classes"
   ]
  },
  {
   "cell_type": "code",
   "execution_count": 8,
   "id": "d57d5b9f4db376ad",
   "metadata": {
    "ExecuteTime": {
     "end_time": "2025-02-13T23:30:40.199967Z",
     "start_time": "2025-02-13T23:30:40.197767Z"
    }
   },
   "outputs": [],
   "source": [
    "class Dog:\n",
    "    def __init__(self, name):\n",
    "        self.name = name\n",
    "\n",
    "    def talk(self):\n",
    "        return 'Gab Gab from {}'.format(self.name)\n",
    "\n",
    "class Cat:\n",
    "    def __init__(self, name):\n",
    "        self.name = name\n",
    "\n",
    "    def talk(self):\n",
    "        return 'Niaou niaou from {}'.format(self.name)"
   ]
  },
  {
   "cell_type": "code",
   "execution_count": 9,
   "id": "80fe7ff81e2a0037",
   "metadata": {
    "ExecuteTime": {
     "end_time": "2025-02-13T23:30:40.213073Z",
     "start_time": "2025-02-13T23:30:40.209110Z"
    }
   },
   "outputs": [
    {
     "name": "stdout",
     "output_type": "stream",
     "text": [
      "Gab Gab from Max\n",
      "Gab Gab from Larry\n",
      "Niaou niaou from Garfield\n"
     ]
    }
   ],
   "source": [
    "def talk(value1, value2, value3):\n",
    "    raise UnregisteredKey('Not a registered key')\n",
    "\n",
    "talk = Dispatcher(talk ,key_generator=type)\n",
    "\n",
    "@talk.register(Dog)\n",
    "def _(obj):\n",
    "    return obj.talk()\n",
    "\n",
    "@talk.register(Cat)\n",
    "def _(obj):\n",
    "    return obj.talk()\n",
    "\n",
    "print(talk(Dog('Max')))\n",
    "print(talk(Dog('Larry')))\n",
    "print(talk(Cat('Garfield')))"
   ]
  },
  {
   "cell_type": "markdown",
   "id": "d4ed9d0c5b5ba759",
   "metadata": {},
   "source": [
    "The default behaviour is to set as key the value of the first argument itself. If this is the case decorator syntax can be used."
   ]
  },
  {
   "cell_type": "code",
   "execution_count": 10,
   "id": "ec903f83de80f652",
   "metadata": {
    "ExecuteTime": {
     "end_time": "2025-02-13T23:30:40.228456Z",
     "start_time": "2025-02-13T23:30:40.225411Z"
    }
   },
   "outputs": [],
   "source": [
    "@Dispatcher\n",
    "def registered_key(*args):\n",
    "    raise UnregisteredKey('Not a registered key')\n",
    "\n",
    "\n",
    "@registered_key.register('a')\n",
    "def _value(*args):\n",
    "    \"\"\"This is the function for argument a\"\"\"\n",
    "    return registered_key.get_function('a').__doc__\n",
    "\n",
    "@registered_key.register('b')\n",
    "def _value(*args):\n",
    "    \"\"\"This is the function for argument b\"\"\"\n",
    "    return registered_key.get_function('b').__doc__\n",
    "\n",
    "@registered_key.register('c')\n",
    "def _value(*args):\n",
    "    \"\"\"This is the function for argument c\"\"\"\n",
    "    return registered_key.get_function('c').__doc__\n"
   ]
  },
  {
   "cell_type": "code",
   "execution_count": 11,
   "id": "6b2d0996352afa44",
   "metadata": {
    "ExecuteTime": {
     "end_time": "2025-02-13T23:30:40.238147Z",
     "start_time": "2025-02-13T23:30:40.235743Z"
    }
   },
   "outputs": [
    {
     "name": "stdout",
     "output_type": "stream",
     "text": [
      "This is the function for argument a\n",
      "This is the function for argument b\n",
      "This is the function for argument c\n",
      "'Not a registered key'\n"
     ]
    }
   ],
   "source": [
    "print(registered_key('a',1))\n",
    "print(registered_key('b',1))\n",
    "print(registered_key('c',1))\n",
    "try:\n",
    "    registered_key('d',1)\n",
    "except UnregisteredKey as ex:\n",
    "    print(ex)"
   ]
  },
  {
   "cell_type": "markdown",
   "id": "479bae07366ac7d2",
   "metadata": {},
   "source": [
    "It can be used to decorate methods."
   ]
  },
  {
   "cell_type": "code",
   "execution_count": 12,
   "id": "7e747c0e9aaeaae",
   "metadata": {
    "ExecuteTime": {
     "end_time": "2025-02-13T23:30:40.259651Z",
     "start_time": "2025-02-13T23:30:40.256904Z"
    }
   },
   "outputs": [
    {
     "name": "stdout",
     "output_type": "stream",
     "text": [
      "Alice\n",
      "Bob\n"
     ]
    }
   ],
   "source": [
    "def raise_error(*args, **kwargs):\n",
    "    raise UnregisteredKey('Not a registered key')\n",
    "\n",
    "class Person:\n",
    "    def __init__(self, name):\n",
    "        self.name = name\n",
    "\n",
    "    talk = Dispatcher(raise_error,\n",
    "                      key_generator=None,\n",
    "                      key_idx=1)\n",
    "\n",
    "    @talk.register('Bob')\n",
    "    def _(*args):\n",
    "        return 'Bob'\n",
    "\n",
    "    @talk.register('Alice')\n",
    "    def _(*args):\n",
    "        return 'Alice'\n",
    "\n",
    "p = Person('No name')\n",
    "print(p.talk('Alice')) # the first argument is self so it uses the first it was passed\n",
    "print(p.talk('Bob'))"
   ]
  },
  {
   "cell_type": "code",
   "execution_count": 13,
   "id": "59f0f4309916f3a6",
   "metadata": {
    "ExecuteTime": {
     "end_time": "2025-02-13T23:30:40.280544Z",
     "start_time": "2025-02-13T23:30:40.276716Z"
    }
   },
   "outputs": [
    {
     "data": {
      "text/plain": [
       "<bound method raise_error of <__main__.Person object at 0x105564380>>"
      ]
     },
     "execution_count": 13,
     "metadata": {},
     "output_type": "execute_result"
    }
   ],
   "source": [
    "p.talk # The __get__ method of Dispatcher is called"
   ]
  },
  {
   "cell_type": "code",
   "execution_count": 14,
   "id": "363768574ae038c0",
   "metadata": {
    "ExecuteTime": {
     "end_time": "2025-02-13T23:30:40.359202Z",
     "start_time": "2025-02-13T23:30:40.355885Z"
    }
   },
   "outputs": [
    {
     "data": {
      "text/plain": [
       "<decorators.dispatcher.Dispatcher at 0x105563500>"
      ]
     },
     "execution_count": 14,
     "metadata": {},
     "output_type": "execute_result"
    }
   ],
   "source": [
    "Person.talk"
   ]
  },
  {
   "cell_type": "code",
   "execution_count": 15,
   "id": "52db1feab1ac3f11",
   "metadata": {
    "ExecuteTime": {
     "end_time": "2025-02-13T23:30:40.448870Z",
     "start_time": "2025-02-13T23:30:40.443968Z"
    }
   },
   "outputs": [
    {
     "data": {
      "text/plain": [
       "'Alice'"
      ]
     },
     "execution_count": 15,
     "metadata": {},
     "output_type": "execute_result"
    }
   ],
   "source": [
    "Person.talk(p, 'Alice')"
   ]
  },
  {
   "cell_type": "code",
   "execution_count": 16,
   "id": "f0e592abb1cc6a44",
   "metadata": {
    "ExecuteTime": {
     "end_time": "2025-02-13T23:30:40.501015Z",
     "start_time": "2025-02-13T23:30:40.497419Z"
    }
   },
   "outputs": [
    {
     "name": "stdout",
     "output_type": "stream",
     "text": [
      "('b', 'a')\n",
      "key1=None, key2=''\n",
      "Missing required keyword arguments: {'key1'}. Arguments used for dispatching must be passed as keyword arguments.\n",
      "Missing required keyword arguments: {'key1', 'key2'}. Arguments used for dispatching must be passed as keyword arguments.\n",
      "At least one positional or keyword argument is required for dispatching.\n"
     ]
    }
   ],
   "source": [
    "#Dispatching using the argument name and then pass it as keywrod argument.\n",
    "def notify_me(*args, **kwargs):\n",
    "    raise UnregisteredKey('Not a registered key')\n",
    "\n",
    "def reverse_order(key1, key2):\n",
    "    return key2, key1\n",
    "\n",
    "notify_me = Dispatcher(default_function=notify_me,\n",
    "                       key_generator=reverse_order,\n",
    "                       key_names=['key1', 'key2'])\n",
    "\n",
    "@notify_me.register(('b','a'))\n",
    "def _(key1, key2):\n",
    "    return key2, key1\n",
    "\n",
    "@notify_me.register(('', None))\n",
    "def _(key1, key2):\n",
    "    return f\"{key1=}, {key2=}\"\n",
    "    \n",
    "# In order to make the mapping of keys with the function I need to pass keyword arguments in the reverse order to match the output of the generator function\n",
    "print(notify_me(key1='a', key2='b')) # the key generator will reverse the values - > ('b', 'a') just like the values I registered.\n",
    "print(notify_me(key1=None, key2=''))\n",
    "try:\n",
    "    print(notify_me(None, key2=''))\n",
    "except TypeError as e:\n",
    "    print(e)\n",
    "\n",
    "try:\n",
    "    print(notify_me(None, \"\"))\n",
    "except TypeError as e:\n",
    "    print(e)\n",
    "\n",
    "try:\n",
    "    print(notify_me())\n",
    "except ValueError as e:\n",
    "    print(e)"
   ]
  },
  {
   "cell_type": "code",
   "execution_count": 17,
   "id": "fd0f8bf3",
   "metadata": {
    "ExecuteTime": {
     "end_time": "2025-02-13T23:30:40.519163Z",
     "start_time": "2025-02-13T23:30:40.516523Z"
    }
   },
   "outputs": [
    {
     "data": {
      "text/plain": [
       "mappingproxy({('b', 'a'): <function __main__._(key1, key2)>,\n",
       "              ('', None): <function __main__._(key1, key2)>})"
      ]
     },
     "execution_count": 17,
     "metadata": {},
     "output_type": "execute_result"
    }
   ],
   "source": [
    "notify_me.get_registry()"
   ]
  },
  {
   "cell_type": "code",
   "execution_count": null,
   "id": "9f3823d4",
   "metadata": {},
   "outputs": [],
   "source": []
  },
  {
   "cell_type": "code",
   "execution_count": null,
   "id": "4ea17fd1",
   "metadata": {},
   "outputs": [],
   "source": []
  }
 ],
 "metadata": {
  "kernelspec": {
   "display_name": "tsp",
   "language": "python",
   "name": "python3"
  },
  "language_info": {
   "codemirror_mode": {
    "name": "ipython",
    "version": 3
   },
   "file_extension": ".py",
   "mimetype": "text/x-python",
   "name": "python",
   "nbconvert_exporter": "python",
   "pygments_lexer": "ipython3",
   "version": "3.12.8"
  }
 },
 "nbformat": 4,
 "nbformat_minor": 5
}
